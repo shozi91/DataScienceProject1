{
 "cells": [
  {
   "cell_type": "code",
   "execution_count": 4,
   "metadata": {},
   "outputs": [],
   "source": [
    "import requests\n",
    "import os\n",
    "import pandas as pd\n",
    "import pprint as pp"
   ]
  },
  {
   "cell_type": "code",
   "execution_count": 5,
   "metadata": {},
   "outputs": [],
   "source": [
    "target_url = 'https://raw.githubusercontent.com/iancoleman/cia_world_factbook_api/master/data/factbook.json'\n",
    "cia_json = requests.get(target_url).json()"
   ]
  },
  {
   "cell_type": "code",
   "execution_count": 6,
   "metadata": {},
   "outputs": [],
   "source": [
    "unemployment_rate = {}\n",
    "for country in cia_json['countries'].keys():\n",
    "    try:\n",
    "        unemployment_rate[cia_json['countries'][country]['data']['name']] = cia_json[\"countries\"][country]['data']['economy']['unemployment_rate']['annual_values'][0]['value']\n",
    "    except Exception as ex:\n",
    "        unemployment_rate[cia_json['countries'][country]['data']['name']] = ''\n"
   ]
  },
  {
   "cell_type": "code",
   "execution_count": 8,
   "metadata": {},
   "outputs": [],
   "source": [
    "df = pd.DataFrame.from_dict([unemployment_rate]).transpose()\n",
    "df.reset_index(inplace=True)\n",
    "df.rename(columns={'index':'Country', 0:'Unemployment Rate (%)'},inplace=True)\n",
    "df.to_csv(os.path.join('output','unemployment_rate.csv'), index=False)"
   ]
  },
  {
   "cell_type": "code",
   "execution_count": null,
   "metadata": {},
   "outputs": [],
   "source": []
  },
  {
   "cell_type": "code",
   "execution_count": null,
   "metadata": {},
   "outputs": [],
   "source": []
  }
 ],
 "metadata": {
  "kernelspec": {
   "display_name": "Python 3",
   "language": "python",
   "name": "python3"
  },
  "language_info": {
   "codemirror_mode": {
    "name": "ipython",
    "version": 3
   },
   "file_extension": ".py",
   "mimetype": "text/x-python",
   "name": "python",
   "nbconvert_exporter": "python",
   "pygments_lexer": "ipython3",
   "version": "3.6.10"
  }
 },
 "nbformat": 4,
 "nbformat_minor": 4
}
