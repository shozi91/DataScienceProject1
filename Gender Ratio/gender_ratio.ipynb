{
 "cells": [
  {
   "cell_type": "code",
   "execution_count": 1,
   "metadata": {},
   "outputs": [],
   "source": [
    "import os\n",
    "import json\n",
    "import pandas as pd\n",
    "from pprint import pprint\n",
    "import requests"
   ]
  },
  {
   "cell_type": "code",
   "execution_count": 2,
   "metadata": {},
   "outputs": [],
   "source": [
    "target_url = 'https://raw.githubusercontent.com/iancoleman/cia_world_factbook_api/master/data/factbook.json'\n",
    "cia_json = requests.get(target_url).json()"
   ]
  },
  {
   "cell_type": "code",
   "execution_count": 3,
   "metadata": {},
   "outputs": [],
   "source": [
    "genderratio = {}\n",
    "\n",
    "\n",
    "for country in cia_json['countries'].keys():\n",
    "    \n",
    "    try:\n",
    "        genderratio[cia_json['countries'][country]['data']['name']] = round(cia_json['countries'][country]['data']['people']['sex_ratio']['total_population']['value']/(cia_json['countries'][country]['data']['people']['sex_ratio']['total_population']['value']+1),4)\n",
    "             \n",
    "    except Exception as ex:\n",
    "        genderratio[cia_json['countries'][country]['data']['name']] = ''\n"
   ]
  },
  {
   "cell_type": "code",
   "execution_count": 4,
   "metadata": {},
   "outputs": [],
   "source": [
    "df = pd.DataFrame.from_dict([genderratio]).transpose()\n",
    "df.reset_index(inplace=True)\n",
    "df.rename(columns={'index':'Country', 0:'Gender (% of male)'},inplace=True)\n",
    "df.to_csv(os.path.join('output','gender_ratio.csv'), index=False)"
   ]
  },
  {
   "cell_type": "code",
   "execution_count": null,
   "metadata": {},
   "outputs": [],
   "source": []
  }
 ],
 "metadata": {
  "kernelspec": {
   "display_name": "Python 3",
   "language": "python",
   "name": "python3"
  },
  "language_info": {
   "codemirror_mode": {
    "name": "ipython",
    "version": 3
   },
   "file_extension": ".py",
   "mimetype": "text/x-python",
   "name": "python",
   "nbconvert_exporter": "python",
   "pygments_lexer": "ipython3",
   "version": "3.7.4"
  }
 },
 "nbformat": 4,
 "nbformat_minor": 2
}
