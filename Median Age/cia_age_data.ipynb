{
 "cells": [
  {
   "cell_type": "code",
   "execution_count": 1,
   "metadata": {},
   "outputs": [],
   "source": [
    "import pandas as pd\n",
    "import os\n",
    "import json\n",
    "from pprint import pprint"
   ]
  },
  {
   "cell_type": "code",
   "execution_count": 2,
   "metadata": {},
   "outputs": [],
   "source": [
    "filepath = os.path.join(\"cia_data\",\"factbook.json\")\n",
    "with open(filepath, encoding=\"utf8\") as jsonfile:\n",
    "    cia_json = json.load(jsonfile)"
   ]
  },
  {
   "cell_type": "code",
   "execution_count": 3,
   "metadata": {},
   "outputs": [
    {
     "name": "stdout",
     "output_type": "stream",
     "text": [
      "Akrotiri does not have data 'median_age'\n",
      "Antarctica does not have data 'people'\n",
      "Arctic Ocean does not have data 'people'\n",
      "Ashmore And Cartier Islands does not have data 'people'\n",
      "Atlantic Ocean does not have data 'people'\n",
      "Bouvet Island does not have data 'people'\n",
      "British Indian Ocean Territory does not have data 'people'\n",
      "Christmas Island does not have data 'median_age'\n",
      "Clipperton Island does not have data 'people'\n",
      "Cocos (Keeling) Islands does not have data 'median_age'\n",
      "Coral Sea Islands does not have data 'people'\n",
      "Dhekelia does not have data 'median_age'\n",
      "Falkland Islands (Islas Malvinas) does not have data 'median_age'\n",
      "Heard Island And Mcdonald Islands does not have data 'people'\n",
      "Holy See (Vatican City) does not have data 'median_age'\n",
      "Indian Ocean does not have data 'people'\n",
      "Jan Mayen does not have data 'people'\n",
      "Navassa Island does not have data 'people'\n",
      "Niue does not have data 'median_age'\n",
      "Norfolk Island does not have data 'median_age'\n",
      "Pacific Ocean does not have data 'people'\n",
      "Paracel Islands does not have data 'median_age'\n",
      "Pitcairn Islands does not have data 'median_age'\n",
      "South Georgia And South Sandwich Islands does not have data 'people'\n",
      "Southern Ocean does not have data 'people'\n",
      "Spratly Islands does not have data 'people'\n",
      "Svalbard does not have data 'median_age'\n",
      "Tokelau does not have data 'median_age'\n",
      "Wake Island does not have data 'people'\n"
     ]
    }
   ],
   "source": [
    "my_dict = {}\n",
    "\n",
    "#store all median age data in dictionary with countries as keys\n",
    "for country in cia_json['countries'].keys():\n",
    "    try:\n",
    "        my_dict[cia_json['countries'][country]['data']['name']] = cia_json['countries'][country]['data']['people']['median_age']['total']['value']\n",
    "    except Exception as ex:\n",
    "        print(f\"{cia_json['countries'][country]['data']['name']} does not have data\", ex)"
   ]
  },
  {
   "cell_type": "code",
   "execution_count": 5,
   "metadata": {},
   "outputs": [],
   "source": [
    "df = pd.DataFrame.from_dict([my_dict]).transpose()\n",
    "df.reset_index(inplace=True)\n",
    "df.rename(columns={'index':'Country', 0:'Median Age'},inplace=True)\n",
    "df.to_csv('output\\median_age.csv', index=False)"
   ]
  },
  {
   "cell_type": "code",
   "execution_count": null,
   "metadata": {},
   "outputs": [],
   "source": []
  }
 ],
 "metadata": {
  "kernelspec": {
   "display_name": "Python 3",
   "language": "python",
   "name": "python3"
  },
  "language_info": {
   "codemirror_mode": {
    "name": "ipython",
    "version": 3
   },
   "file_extension": ".py",
   "mimetype": "text/x-python",
   "name": "python",
   "nbconvert_exporter": "python",
   "pygments_lexer": "ipython3",
   "version": "3.7.3"
  }
 },
 "nbformat": 4,
 "nbformat_minor": 4
}
