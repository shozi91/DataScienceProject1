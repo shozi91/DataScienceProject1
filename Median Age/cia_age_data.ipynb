{
 "cells": [
  {
   "cell_type": "code",
   "execution_count": 11,
   "metadata": {},
   "outputs": [],
   "source": [
    "import pandas as pd\n",
    "import os\n",
    "import json\n",
    "from pprint import pprint"
   ]
  },
  {
   "cell_type": "code",
   "execution_count": 12,
   "metadata": {},
   "outputs": [],
   "source": [
    "filepath = os.path.join(\"cia_data\",\"factbook.json\")\n",
    "with open(filepath, encoding=\"utf8\") as jsonfile:\n",
    "    cia_json = json.load(jsonfile)"
   ]
  },
  {
   "cell_type": "code",
   "execution_count": 13,
   "metadata": {},
   "outputs": [],
   "source": [
    "my_dict = {}\n",
    "\n",
    "#store all median age data in dictionary with countries as keys\n",
    "for country in cia_json['countries'].keys():\n",
    "    try:\n",
    "        my_dict[cia_json['countries'][country]['data']['name']] = cia_json['countries'][country]['data']['people']['median_age']['total']['value']\n",
    "    except Exception as ex:\n",
    "        my_dict[cia_json['countries'][country]['data']['name']] = ''"
   ]
  },
  {
   "cell_type": "code",
   "execution_count": 14,
   "metadata": {},
   "outputs": [],
   "source": [
    "df = pd.DataFrame.from_dict([my_dict]).transpose()\n",
    "df.reset_index(inplace=True)\n",
    "df.rename(columns={'index':'Country', 0:'Median Age'},inplace=True)\n",
    "df.to_csv('output\\median_age.csv', index=False)"
   ]
  },
  {
   "cell_type": "code",
   "execution_count": null,
   "metadata": {},
   "outputs": [],
   "source": []
  }
 ],
 "metadata": {
  "kernelspec": {
   "display_name": "Python 3",
   "language": "python",
   "name": "python3"
  },
  "language_info": {
   "codemirror_mode": {
    "name": "ipython",
    "version": 3
   },
   "file_extension": ".py",
   "mimetype": "text/x-python",
   "name": "python",
   "nbconvert_exporter": "python",
   "pygments_lexer": "ipython3",
   "version": "3.7.3"
  }
 },
 "nbformat": 4,
 "nbformat_minor": 4
}
