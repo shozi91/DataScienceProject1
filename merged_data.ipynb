{
 "cells": [
  {
   "cell_type": "code",
   "execution_count": null,
   "metadata": {},
   "outputs": [],
   "source": [
    "%matplotlib notebook"
   ]
  },
  {
   "cell_type": "code",
   "execution_count": null,
   "metadata": {},
   "outputs": [],
   "source": [
    "import pandas as pd\n",
    "import matplotlib.pyplot as plt\n",
    "import os\n",
    "\n",
    "pd.set_option('display.max_rows', 500)"
   ]
  },
  {
   "cell_type": "code",
   "execution_count": null,
   "metadata": {},
   "outputs": [],
   "source": [
    "covid_df = pd.read_csv(os.path.join(\"COVID\",\"03-16-2020.csv\"))\n",
    "world_pop_df = pd.read_csv(os.path.join('GDP', 'world_countries_gdp.csv'))\n",
    "median_age_df = pd.read_csv(os.path.join('Median Age', 'output','median_age.csv'))\n",
    "life_expectancy = pd.read_csv(os.path.join('Life Expectancy','output','life_expectancy.csv'))\n",
    "unemployment_rate = pd.read_csv(os.path.join('Unemployment Rate','output','unemployment_rate.csv'))\n",
    "#number of countries in each csv\n",
    "print(f\"COVID-19 Countries: {covid_df['Country/Region'].nunique()}\")\n",
    "print(f\"World Population Countries: {world_pop_df['country'].nunique()}\")\n",
    "print(f\"Median Age Countries: {median_age_df['Country'].nunique()}\")"
   ]
  },
  {
   "cell_type": "code",
   "execution_count": null,
   "metadata": {},
   "outputs": [],
   "source": [
    "#get date only\n",
    "#map takes in a function. So we use a temporary function (lambda)\n",
    "covid_df['Last Update'] = covid_df['Last Update'].map(lambda x: x[0:10])"
   ]
  },
  {
   "cell_type": "code",
   "execution_count": null,
   "metadata": {},
   "outputs": [],
   "source": [
    "#clean data\n",
    "grouped_covid_df = covid_df.groupby(['Country/Region']).sum()\n",
    "grouped_covid_df.drop(['Latitude','Longitude'],1,inplace=True)\n",
    "grouped_covid_df.rename(index = {\"US\":\"United States\",\"Taiwan*\":\"Taiwan\"}, inplace=True)\n",
    "grouped_covid_df.reset_index(inplace=True)\n",
    "grouped_covid_df.rename(columns = {\"Country/Region\":\"Country\"}, inplace=True)\n",
    "#grouped_covid_df.query('Country_Region.str.contains(\"Congo\")',engine='python',inplace=True)"
   ]
  },
  {
   "cell_type": "code",
   "execution_count": null,
   "metadata": {
    "scrolled": true
   },
   "outputs": [],
   "source": [
    "#clean data\n",
    "grouped_world_pop_df = world_pop_df.groupby('country').sum()\n",
    "grouped_world_pop_df.drop(['rank','unGDP'],1,inplace=True)\n",
    "grouped_world_pop_df.rename(index = {\"South Korea\":\"Korea, South\",\"Bahamas\":\"The Bahamas\"}, \n",
    "                            columns = {\"imfGDP\": \"GDP\",\"gdpPerCapita\": \"GDP Per Capita\",\"pop\":\"Population\"},\n",
    "                            inplace=True)\n",
    "grouped_world_pop_df.index.name = 'Country'\n",
    "grouped_world_pop_df.reset_index(inplace=True)"
   ]
  },
  {
   "cell_type": "code",
   "execution_count": null,
   "metadata": {},
   "outputs": [],
   "source": [
    "clean_median_age_df = median_age_df.copy()\n",
    "#replace country column with string replace\n",
    "clean_median_age_df['Country'] = clean_median_age_df['Country'].str.replace(pat='And',repl='and',case=False)\n",
    "clean_median_age_df['Country'] = clean_median_age_df['Country'].str.replace(pat='The',repl='the',case=False)\n",
    "clean_median_age_df['Country'] = clean_median_age_df['Country'].str.replace(pat='Congo, Democratic Republic Of the',repl='Republic of the Congo',case=False)\n",
    "clean_median_age_df['Country'] = clean_median_age_df['Country'].str.replace(pat='andorra',repl='Andorra',case=False)\n",
    "clean_median_age_df['Country'] = clean_median_age_df['Country'].str.replace(pat='Bahamas, the',repl='The Bahamas',case=False)\n",
    "clean_median_age_df.sort_values(by='Country',ascending=True,inplace=True)\n",
    "clean_median_age_df.reset_index(drop=True,inplace=True)"
   ]
  },
  {
   "cell_type": "code",
   "execution_count": null,
   "metadata": {},
   "outputs": [],
   "source": [
    "merged_df = grouped_covid_df.merge(grouped_world_pop_df,how='outer',on='Country')\n",
    "#merged_df.dropna(inplace=True)\n",
    "merged_df.reset_index(drop=True,inplace=True)\n",
    "#merged_df['GDP Per Capita'] = merged_df['GDP Per Capita'].map('{:.0f}'.format)\n",
    "#merged_df['Population'] = (merged_df['Population'] * 1000).astype('int64')"
   ]
  },
  {
   "cell_type": "code",
   "execution_count": null,
   "metadata": {},
   "outputs": [],
   "source": [
    "complete_df = merged_df.merge(clean_median_age_df,how='outer',on='Country')\n",
    "complete_df.sort_values(by='Country',ascending=True,inplace=True)\n",
    "complete_df.reset_index(drop=True,inplace=True)\n",
    "#complete_df.dropna(inplace=True)\n",
    "#complete_df.reset_index(drop=True,inplace=True)\n",
    "\n",
    "complete_df"
   ]
  },
  {
   "cell_type": "code",
   "execution_count": null,
   "metadata": {},
   "outputs": [],
   "source": [
    "complete_df.to_csv('output\\complete_data.csv', index=False)"
   ]
  },
  {
   "cell_type": "code",
   "execution_count": null,
   "metadata": {},
   "outputs": [],
   "source": []
  }
 ],
 "metadata": {
  "kernelspec": {
   "display_name": "Python 3",
   "language": "python",
   "name": "python3"
  },
  "language_info": {
   "codemirror_mode": {
    "name": "ipython",
    "version": 3
   },
   "file_extension": ".py",
   "mimetype": "text/x-python",
   "name": "python",
   "nbconvert_exporter": "python",
   "pygments_lexer": "ipython3",
   "version": "3.7.4"
  }
 },
 "nbformat": 4,
 "nbformat_minor": 4
}
